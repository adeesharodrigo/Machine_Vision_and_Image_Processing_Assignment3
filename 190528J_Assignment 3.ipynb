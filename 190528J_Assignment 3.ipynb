{
 "cells": [
  {
   "cell_type": "code",
   "execution_count": null,
   "id": "4fd38a85",
   "metadata": {},
   "outputs": [],
   "source": [
    "import cv2 as cv\n",
    "import numpy as np\n",
    "import matplotlib.pyplot as plt\n",
    "\n",
    "hexnut_template = cv.imread('hexnut_template.png', cv.IMREAD_COLOR)\n",
    "squarenut_template =  cv.imread('squarenut_template.png', cv.IMREAD_COLOR)\n",
    "conveyor_f100 =  cv.imread('conveyor_f100.png', cv.IMREAD_COLOR)\n",
    "\n",
    "fig, ax = plt. subplots(1,3)\n",
    "ax[0].imshow(cv.cvtColor(hexnut_template, cv.COLOR_RGB2BGR))\n",
    "ax[1].imshow(cv.cvtColor(squarenut_template, cv.COLOR_RGB2BGR))\n",
    "ax[2].imshow(cv.cvtColor(conveyor_f100, cv.COLOR_RGB2BGR))\n",
    "plt.show()"
   ]
  },
  {
   "cell_type": "code",
   "execution_count": null,
   "id": "88abab1f",
   "metadata": {},
   "outputs": [],
   "source": [
    "#Turning into grayscale images\n",
    "hexnut_gray=cv.cvtColor(hexnut_template,cv.COLOR_BGR2GRAY)\n",
    "squarenut_gray=cv.cvtColor(squarenut_template,cv.COLOR_BGR2GRAY)\n",
    "conveyor_gray=cv.cvtColor(conveyor_f100,cv.COLOR_BGR2GRAY)\n",
    "fig, ax = plt. subplots(1,3)\n",
    "ax[0].imshow(cv.cvtColor(hexnut_gray, cv.COLOR_RGB2BGR))\n",
    "ax[1].imshow(cv.cvtColor(squarenut_gray, cv.COLOR_RGB2BGR))\n",
    "ax[2].imshow(cv.cvtColor(conveyor_gray, cv.COLOR_RGB2BGR))\n",
    "plt.show()"
   ]
  },
  {
   "cell_type": "code",
   "execution_count": null,
   "id": "bfaef25c",
   "metadata": {},
   "outputs": [],
   "source": [
    "hexnut_th,hex_th=cv.threshold(hexnut_gray,80,255,cv.THRESH_BINARY+cv.THRESH_OTSU)\n",
    "squarenut_th,sq_th=cv.threshold(squarenut_gray,80,255,cv.THRESH_BINARY+cv.THRESH_OTSU)\n",
    "conveyour_th,con_th=cv.threshold(conveyor_gray,80,255,cv.THRESH_BINARY+cv.THRESH_OTSU)\n",
    "fig, ax = plt. subplots(1,3)\n",
    "ax[0].imshow(cv.cvtColor(hex_th, cv.COLOR_RGB2BGR))\n",
    "ax[1].imshow(cv.cvtColor(sq_th, cv.COLOR_RGB2BGR))\n",
    "ax[2].imshow(cv.cvtColor(con_th, cv.COLOR_RGB2BGR))\n",
    "plt.show()"
   ]
  },
  {
   "cell_type": "code",
   "execution_count": null,
   "id": "f3c8de91",
   "metadata": {},
   "outputs": [],
   "source": [
    "\n",
    "#Taking 3x3 kernel\n",
    "kernel = np.ones((3,3),np.uint8)\n",
    "closing_hex = cv.morphologyEx(hex_th, cv.MORPH_CLOSE, kernel)\n",
    "closing_squarenut = cv.morphologyEx(sq_th, cv.MORPH_CLOSE, kernel)\n",
    "closing_conveyour = cv.morphologyEx(con_th, cv.MORPH_CLOSE, kernel)\n",
    "\n",
    "fig, ax = plt. subplots(1,3)\n",
    "ax[0].imshow(cv.cvtColor(closing_hex, cv.COLOR_RGB2BGR))\n",
    "ax[1].imshow(cv.cvtColor(closing_squarenut, cv.COLOR_RGB2BGR))\n",
    "ax[2].imshow(cv.cvtColor(closing_conveyour, cv.COLOR_RGB2BGR))\n",
    "plt.show()"
   ]
  },
  {
   "cell_type": "code",
   "execution_count": null,
   "id": "bbc5d0d8",
   "metadata": {},
   "outputs": [],
   "source": [
    "output = cv.connectedComponentsWithStats(closing_hex,  cv.CV_32S)\n",
    "(numLabels, labels, stats, centroids) = output\n",
    "#numLabels for number of elements\n"
   ]
  },
  {
   "cell_type": "code",
   "execution_count": null,
   "id": "8ee6db1c",
   "metadata": {},
   "outputs": [],
   "source": [
    "for i in range(0, numLabels):\n",
    "# if this is the first component then we examine the\n",
    "    # *background* (typically we would just ignore this\n",
    "    # component in our loop)\n",
    "    if i == 0:\n",
    "        text = \"examining component {}/{} (background)\".format(\n",
    "        i + 1, numLabels)\n",
    "    # otherwise, we are examining an actual connected component\n",
    "    else:\n",
    "        text = \"examining component {}/{}\".format( i + 1, numLabels)\n",
    "    # print a status message update for the current connected\n",
    "    # component\n",
    "    print(\"[INFO] {}\".format(text))\n",
    "    # extract the connected component statistics and centroid for\n",
    "    # the current label\n",
    "    x = stats[i, cv.CC_STAT_LEFT]\n",
    "    y = stats[i, cv.CC_STAT_TOP]\n",
    "    w = stats[i, cv.CC_STAT_WIDTH]\n",
    "    h = stats[i, cv.CC_STAT_HEIGHT]\n",
    "    area = stats[i, cv.CC_STAT_AREA]\n",
    "    (cX, cY) = centroids[i]\n",
    "print(\"Centroids of hexnut \", output[3])"
   ]
  },
  {
   "cell_type": "code",
   "execution_count": null,
   "id": "eda63467",
   "metadata": {},
   "outputs": [],
   "source": [
    "output = cv.connectedComponentsWithStats(closing_squarenut,  cv.CV_32S)\n",
    "(numLabels, labels, stats, centroids) = output\n",
    "for i in range(0, numLabels):\n",
    "# if this is the first component then we examine the\n",
    "    # *background* (typically we would just ignore this\n",
    "    # component in our loop)\n",
    "    if i == 0:\n",
    "        text = \"examining component {}/{} (background)\".format(\n",
    "        i + 1, numLabels)\n",
    "    # otherwise, we are examining an actual connected component\n",
    "    else:\n",
    "        text = \"examining component {}/{}\".format( i + 1, numLabels)\n",
    "    # print a status message update for the current connected\n",
    "    # component\n",
    "    print(\"[INFO] {}\".format(text))\n",
    "    # extract the connected component statistics and centroid for\n",
    "    # the current label\n",
    "    x = stats[i, cv.CC_STAT_LEFT]\n",
    "    y = stats[i, cv.CC_STAT_TOP]\n",
    "    w = stats[i, cv.CC_STAT_WIDTH]\n",
    "    h = stats[i, cv.CC_STAT_HEIGHT]\n",
    "    area = stats[i, cv.CC_STAT_AREA]\n",
    "    (cX, cY) = centroids[i]\n",
    "print(\"Centroids of Square Nut \", output[3])"
   ]
  },
  {
   "cell_type": "code",
   "execution_count": null,
   "id": "8539b051",
   "metadata": {},
   "outputs": [],
   "source": [
    "output = cv.connectedComponentsWithStats(closing_conveyour,  cv.CV_32S)\n",
    "(numLabels, labels, stats, centroids) = output\n",
    "for i in range(0, numLabels):\n",
    "# if this is the first component then we examine the\n",
    "    # *background* (typically we would just ignore this\n",
    "    # component in our loop)\n",
    "    if i == 0:\n",
    "        text = \"examining component {}/{} (background)\".format(\n",
    "        i + 1, numLabels)\n",
    "    # otherwise, we are examining an actual connected component\n",
    "    else:\n",
    "        text = \"examining component {}/{}\".format( i + 1, numLabels)\n",
    "    # print a status message update for the current connected\n",
    "    # component\n",
    "    print(\"[INFO] {}\".format(text))\n",
    "    # extract the connected component statistics and centroid for\n",
    "    # the current label\n",
    "    x = stats[i, cv.CC_STAT_LEFT]\n",
    "    y = stats[i, cv.CC_STAT_TOP]\n",
    "    w = stats[i, cv.CC_STAT_WIDTH]\n",
    "    h = stats[i, cv.CC_STAT_HEIGHT]\n",
    "    area = stats[i, cv.CC_STAT_AREA]\n",
    "    (cX, cY) = centroids[i]\n",
    "print(\"Centroids of Conveyor \", output[3])"
   ]
  },
  {
   "cell_type": "code",
   "execution_count": null,
   "id": "2e8f8eb9",
   "metadata": {},
   "outputs": [],
   "source": [
    "output = closing_hex.copy()\n",
    "cv.rectangle(output, (x, y), (x + w, y + h), (0, 255, 0), 3)\n",
    "cv.circle(output, (int(cX), int(cY)), 4, (0, 0, 255), -1)\n",
    "componentMask = (labels == i).astype(\"uint8\") * 200\n",
    "# show our output image and connected component mask\n",
    "cv.imshow(\"Output\", output)\n",
    "cv.imshow(\"Connected Component\", componentMask)\n",
    "cv.waitKey(0)"
   ]
  },
  {
   "cell_type": "code",
   "execution_count": null,
   "id": "45339d14",
   "metadata": {},
   "outputs": [],
   "source": []
  },
  {
   "cell_type": "code",
   "execution_count": null,
   "id": "06f3af27",
   "metadata": {},
   "outputs": [],
   "source": []
  },
  {
   "cell_type": "code",
   "execution_count": null,
   "id": "c199fdc8",
   "metadata": {},
   "outputs": [],
   "source": []
  },
  {
   "cell_type": "code",
   "execution_count": null,
   "id": "8b74a992",
   "metadata": {},
   "outputs": [],
   "source": []
  }
 ],
 "metadata": {
  "kernelspec": {
   "display_name": "Python 3 (ipykernel)",
   "language": "python",
   "name": "python3"
  },
  "language_info": {
   "codemirror_mode": {
    "name": "ipython",
    "version": 3
   },
   "file_extension": ".py",
   "mimetype": "text/x-python",
   "name": "python",
   "nbconvert_exporter": "python",
   "pygments_lexer": "ipython3",
   "version": "3.10.2"
  }
 },
 "nbformat": 4,
 "nbformat_minor": 5
}
