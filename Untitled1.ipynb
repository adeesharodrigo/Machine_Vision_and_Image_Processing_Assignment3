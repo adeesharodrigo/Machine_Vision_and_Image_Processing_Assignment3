{
 "cells": [
  {
   "cell_type": "code",
   "execution_count": 4,
   "id": "4a5c4ec6",
   "metadata": {},
   "outputs": [
    {
     "data": {
      "image/png": "[encoded data removed]",
      "text/plain": [
       "<Figure size 432x288 with 3 Axes>"
      ]
     },
     "metadata": {
      "needs_background": "light"
     },
     "output_type": "display_data"
    }
   ],
   "source": [
    "import cv2 as cv\n",
    "import numpy as np\n",
    "import matplotlib.pyplot as plt\n",
    "\n",
    "hexnut_template = cv.imread('hexnut_template.png', cv.IMREAD_COLOR)\n",
    "squarenut_template =  cv.imread('squarenut_template.png', cv.IMREAD_COLOR)\n",
    "conveyor_f100 =  cv.imread('conveyor_f100.png', cv.IMREAD_COLOR)\n",
    "\n",
    "fig, ax = plt. subplots(1,3)\n",
    "ax[0].imshow(cv.cvtColor(hexnut_template, cv.COLOR_RGB2BGR))\n",
    "ax[1].imshow(cv.cvtColor(squarenut_template, cv.COLOR_RGB2BGR))\n",
    "ax[2].imshow(cv.cvtColor(conveyor_f100, cv.COLOR_RGB2BGR))\n",
    "plt.show()"
   ]
  },
  {
   "cell_type": "code",
   "execution_count": 5,
   "id": "d866e36d",
   "metadata": {},
   "outputs": [
    {
     "data": {
      "image/png": "[encoded data removed]",
      "text/plain": [
       "<Figure size 432x288 with 3 Axes>"
      ]
     },
     "metadata": {
      "needs_background": "light"
     },
     "output_type": "display_data"
    }
   ],
   "source": [
    "#Turning into grayscale images\n",
    "hexnut_gray=cv.cvtColor(hexnut_template,cv.COLOR_BGR2GRAY)\n",
    "squarenut_gray=cv.cvtColor(squarenut_template,cv.COLOR_BGR2GRAY)\n",
    "conveyor_gray=cv.cvtColor(conveyor_f100,cv.COLOR_BGR2GRAY)\n",
    "fig, ax = plt. subplots(1,3)\n",
    "ax[0].imshow(cv.cvtColor(hexnut_gray, cv.COLOR_RGB2BGR))\n",
    "ax[1].imshow(cv.cvtColor(squarenut_gray, cv.COLOR_RGB2BGR))\n",
    "ax[2].imshow(cv.cvtColor(conveyor_gray, cv.COLOR_RGB2BGR))\n",
    "plt.show()"
   ]
  },
  {
   "cell_type": "code",
   "execution_count": 6,
   "id": "d5392ff3",
   "metadata": {},
   "outputs": [
    {
     "data": {
      "image/png": "[encoded data removed]",
      "text/plain": [
       "<Figure size 432x288 with 3 Axes>"
      ]
     },
     "metadata": {
      "needs_background": "light"
     },
     "output_type": "display_data"
    }
   ],
   "source": [
    "hexnut_th,hex_th=cv.threshold(hexnut_gray,80,255,cv.THRESH_BINARY+cv.THRESH_OTSU)\n",
    "squarenut_th,sq_th=cv.threshold(squarenut_gray,80,255,cv.THRESH_BINARY+cv.THRESH_OTSU)\n",
    "conveyour_th,con_th=cv.threshold(conveyor_gray,80,255,cv.THRESH_BINARY+cv.THRESH_OTSU)\n",
    "fig, ax = plt. subplots(1,3)\n",
    "ax[0].imshow(cv.cvtColor(hex_th, cv.COLOR_RGB2BGR))\n",
    "ax[1].imshow(cv.cvtColor(sq_th, cv.COLOR_RGB2BGR))\n",
    "ax[2].imshow(cv.cvtColor(con_th, cv.COLOR_RGB2BGR))\n",
    "plt.show()"
   ]
  },
  {
   "cell_type": "code",
   "execution_count": 7,
   "id": "b51712ae",
   "metadata": {},
   "outputs": [
    {
     "data": {
      "image/png": "[encoded data removed]",
      "text/plain": [
       "<Figure size 432x288 with 3 Axes>"
      ]
     },
     "metadata": {
      "needs_background": "light"
     },
     "output_type": "display_data"
    }
   ],
   "source": [
    "\n",
    "#Taking 3x3 kernel\n",
    "kernel = np.ones((3,3),np.uint8)\n",
    "closing_hex = cv.morphologyEx(hex_th, cv.MORPH_CLOSE, kernel)\n",
    "closing_squarenut = cv.morphologyEx(sq_th, cv.MORPH_CLOSE, kernel)\n",
    "closing_conveyour = cv.morphologyEx(con_th, cv.MORPH_CLOSE, kernel)\n",
    "\n",
    "fig, ax = plt. subplots(1,3)\n",
    "ax[0].imshow(cv.cvtColor(closing_hex, cv.COLOR_RGB2BGR))\n",
    "ax[1].imshow(cv.cvtColor(closing_squarenut, cv.COLOR_RGB2BGR))\n",
    "ax[2].imshow(cv.cvtColor(closing_conveyour, cv.COLOR_RGB2BGR))\n",
    "plt.show()"
   ]
  },
  {
   "cell_type": "code",
   "execution_count": 8,
   "id": "2bef1d86",
   "metadata": {},
   "outputs": [
    {
     "name": "stdout",
     "output_type": "stream",
     "text": [
      "[INFO] examining component 1/3 (background)\n",
      "[INFO] examining component 2/3\n",
      "[INFO] examining component 3/3\n",
      "Centroids of hexnut  [[59.83354511 59.22257518]\n",
      " [59.168848   59.54269794]\n",
      " [60.         60.        ]]\n"
     ]
    }
   ],
   "source": [
    "output = cv.connectedComponentsWithStats(closing_hex,  cv.CV_32S)\n",
    "(numLabels, labels, stats, centroids) = output\n",
    "#numLabels for number of elements\n",
    "for i in range(0, numLabels):\n",
    "# if this is the first component then we examine the\n",
    "    # *background* (typically we would just ignore this\n",
    "    # component in our loop)\n",
    "    if i == 0:\n",
    "        text = \"examining component {}/{} (background)\".format(\n",
    "        i + 1, numLabels)\n",
    "    # otherwise, we are examining an actual connected component\n",
    "    else:\n",
    "        text = \"examining component {}/{}\".format( i + 1, numLabels)\n",
    "    # print a status message update for the current connected\n",
    "    # component\n",
    "    print(\"[INFO] {}\".format(text))\n",
    "    # extract the connected component statistics and centroid for\n",
    "    # the current label\n",
    "    x = stats[i, cv.CC_STAT_LEFT]\n",
    "    y = stats[i, cv.CC_STAT_TOP]\n",
    "    w = stats[i, cv.CC_STAT_WIDTH]\n",
    "    h = stats[i, cv.CC_STAT_HEIGHT]\n",
    "    area = stats[i, cv.CC_STAT_AREA]\n",
    "    (cX, cY) = centroids[i]\n",
    "print(\"Centroids of hexnut \", output[3])"
   ]
  },
  {
   "cell_type": "code",
   "execution_count": 9,
   "id": "ab749588",
   "metadata": {},
   "outputs": [
    {
     "name": "stdout",
     "output_type": "stream",
     "text": [
      "[INFO] examining component 1/3 (background)\n",
      "[INFO] examining component 2/3\n",
      "[INFO] examining component 3/3\n",
      "Centroids of Square Nut  [[59.19578033 59.19578033]\n",
      " [59.5        59.5       ]\n",
      " [60.         60.        ]]\n"
     ]
    }
   ],
   "source": [
    "output = cv.connectedComponentsWithStats(closing_squarenut,  cv.CV_32S)\n",
    "(numLabels, labels, stats, centroids) = output\n",
    "for i in range(0, numLabels):\n",
    "# if this is the first component then we examine the\n",
    "    # *background* (typically we would just ignore this\n",
    "    # component in our loop)\n",
    "    if i == 0:\n",
    "        text = \"examining component {}/{} (background)\".format(\n",
    "        i + 1, numLabels)\n",
    "    # otherwise, we are examining an actual connected component\n",
    "    else:\n",
    "        text = \"examining component {}/{}\".format( i + 1, numLabels)\n",
    "    # print a status message update for the current connected\n",
    "    # component\n",
    "    print(\"[INFO] {}\".format(text))\n",
    "    # extract the connected component statistics and centroid for\n",
    "    # the current label\n",
    "    x = stats[i, cv.CC_STAT_LEFT]\n",
    "    y = stats[i, cv.CC_STAT_TOP]\n",
    "    w = stats[i, cv.CC_STAT_WIDTH]\n",
    "    h = stats[i, cv.CC_STAT_HEIGHT]\n",
    "    area = stats[i, cv.CC_STAT_AREA]\n",
    "    (cX, cY) = centroids[i]\n",
    "print(\"Centroids of Square Nut \", output[3])"
   ]
  },
  {
   "cell_type": "code",
   "execution_count": 10,
   "id": "126f5580",
   "metadata": {},
   "outputs": [
    {
     "name": "stdout",
     "output_type": "stream",
     "text": [
      "[INFO] examining component 1/6 (background)\n",
      "[INFO] examining component 2/6\n",
      "[INFO] examining component 3/6\n",
      "[INFO] examining component 4/6\n",
      "[INFO] examining component 5/6\n",
      "[INFO] examining component 6/6\n",
      "Centroids of Conveyor  [[1275.02110553  400.11083991]\n",
      " [ 956.24734066  540.88404962]\n",
      " [1500.          200.        ]\n",
      " [1300.          400.        ]\n",
      " [1500.          500.        ]\n",
      " [ 700.          600.        ]]\n"
     ]
    }
   ],
   "source": [
    "output = cv.connectedComponentsWithStats(closing_conveyour,  cv.CV_32S)\n",
    "(numLabels, labels, stats, centroids) = output\n",
    "for i in range(0, numLabels):\n",
    "# if this is the first component then we examine the\n",
    "    # *background* (typically we would just ignore this\n",
    "    # component in our loop)\n",
    "    if i == 0:\n",
    "        text = \"examining component {}/{} (background)\".format(\n",
    "        i + 1, numLabels)\n",
    "    # otherwise, we are examining an actual connected component\n",
    "    else:\n",
    "        text = \"examining component {}/{}\".format( i + 1, numLabels)\n",
    "    # print a status message update for the current connected\n",
    "    # component\n",
    "    print(\"[INFO] {}\".format(text))\n",
    "    # extract the connected component statistics and centroid for\n",
    "    # the current label\n",
    "    x = stats[i, cv.CC_STAT_LEFT]\n",
    "    y = stats[i, cv.CC_STAT_TOP]\n",
    "    w = stats[i, cv.CC_STAT_WIDTH]\n",
    "    h = stats[i, cv.CC_STAT_HEIGHT]\n",
    "    area = stats[i, cv.CC_STAT_AREA]\n",
    "    (cX, cY) = centroids[i]\n",
    "print(\"Centroids of Conveyor \", output[3])"
   ]
  },
  {
   "cell_type": "code",
   "execution_count": 8,
   "id": "6b4bc159",
   "metadata": {},
   "outputs": [
    {
     "name": "stdout",
     "output_type": "stream",
     "text": [
      "[[1 1 1 ... 1 1 1]\n",
      " [1 1 1 ... 1 1 1]\n",
      " [1 1 1 ... 1 1 1]\n",
      " ...\n",
      " [1 1 1 ... 1 1 1]\n",
      " [1 1 1 ... 1 1 1]\n",
      " [1 1 1 ... 1 1 1]]\n"
     ]
    }
   ],
   "source": [
    "output = closing_hex.copy()\n",
    "cv.rectangle(output, (x, y), (x + w, y + h), (0, 255, 0), 3)\n",
    "cv.circle(output, (int(cX), int(cY)), 4, (0, 0, 255), -1)\n",
    "componentMask = (labels == i).astype(\"uint8\") * 200\n",
    "# show our output image and connected component mask\n",
    "cv.imshow(\"Output\", output)\n",
    "cv.imshow(\"Connected Component\", componentMask)\n",
    "cv.waitKey(0)\n",
    "print(labels)"
   ]
  },
  {
   "cell_type": "code",
   "execution_count": 9,
   "id": "15cbf49c",
   "metadata": {},
   "outputs": [
    {
     "name": "stdout",
     "output_type": "stream",
     "text": [
      "[[1 1 1 ... 1 1 1]\n",
      " [1 1 1 ... 1 1 1]\n",
      " [1 1 1 ... 1 1 1]\n",
      " ...\n",
      " [1 1 1 ... 1 1 1]\n",
      " [1 1 1 ... 1 1 1]\n",
      " [1 1 1 ... 1 1 1]]\n"
     ]
    }
   ],
   "source": [
    "output = closing_squarenut.copy()\n",
    "cv.rectangle(output, (x, y), (x + w, y + h), (0, 255, 0), 3)\n",
    "cv.circle(output, (int(cX), int(cY)), 4, (0, 0, 255), -1)\n",
    "componentMask = (labels == i).astype(\"uint8\") * 200\n",
    "# show our output image and connected component mask\n",
    "cv.imshow(\"Output\", output)\n",
    "cv.imshow(\"Connected Component\", componentMask)\n",
    "cv.waitKey(0)\n",
    "print(labels)"
   ]
  },
  {
   "cell_type": "code",
   "execution_count": 27,
   "id": "0351c588",
   "metadata": {},
   "outputs": [
    {
     "ename": "error",
     "evalue": "OpenCV(4.5.5) :-1: error: (-5:Bad argument) in function 'imshow'\n> Overload resolution failed:\n>  - imshow() missing required argument 'mat' (pos 2)\n>  - imshow() missing required argument 'mat' (pos 2)\n>  - imshow() missing required argument 'mat' (pos 2)\n",
     "output_type": "error",
     "traceback": [
      "\u001b[1;31m---------------------------------------------------------------------------\u001b[0m",
      "\u001b[1;31merror\u001b[0m                                     Traceback (most recent call last)",
      "Input \u001b[1;32mIn [27]\u001b[0m, in \u001b[0;36m<module>\u001b[1;34m\u001b[0m\n\u001b[0;32m      3\u001b[0m cv\u001b[38;5;241m.\u001b[39mdrawContours(copy,contours\u001b[38;5;241m=\u001b[39mcontours,contourIdx\u001b[38;5;241m=\u001b[39m\u001b[38;5;241m-\u001b[39m\u001b[38;5;241m1\u001b[39m,color\u001b[38;5;241m=\u001b[39m(\u001b[38;5;241m255\u001b[39m,\u001b[38;5;241m0\u001b[39m,\u001b[38;5;241m0\u001b[39m),thickness\u001b[38;5;241m=\u001b[39m\u001b[38;5;241m2\u001b[39m,lineType\u001b[38;5;241m=\u001b[39mcv\u001b[38;5;241m.\u001b[39mLINE_AA)\n\u001b[0;32m      4\u001b[0m fig, ax \u001b[38;5;241m=\u001b[39m plt\u001b[38;5;241m.\u001b[39m subplots(\u001b[38;5;241m1\u001b[39m,\u001b[38;5;241m2\u001b[39m)\n\u001b[1;32m----> 5\u001b[0m \u001b[43mcv\u001b[49m\u001b[38;5;241;43m.\u001b[39;49m\u001b[43mimshow\u001b[49m\u001b[43m(\u001b[49m\u001b[43mcopy\u001b[49m\u001b[43m)\u001b[49m\n",
      "\u001b[1;31merror\u001b[0m: OpenCV(4.5.5) :-1: error: (-5:Bad argument) in function 'imshow'\n> Overload resolution failed:\n>  - imshow() missing required argument 'mat' (pos 2)\n>  - imshow() missing required argument 'mat' (pos 2)\n>  - imshow() missing required argument 'mat' (pos 2)\n"
     ]
    },
    {
     "data": {
      "image/png": "[encoded data removed]",
      "text/plain": [
       "<Figure size 432x288 with 2 Axes>"
      ]
     },
     "metadata": {
      "needs_background": "light"
     },
     "output_type": "display_data"
    }
   ],
   "source": [
    "contours,hierachy=cv.findContours(hex_th,mode=cv.RETR_TREE,method=cv.CHAIN_APPROX_SIMPLE)\n",
    "copy=hex_th.copy()\n",
    "cv.drawContours(copy,contours=contours,contourIdx=-1,color=(255,0,0),thickness=2,lineType=cv.LINE_AA)\n",
    "fig, ax = plt. subplots(1,2)\n",
    "cv.imshow(copy)\n",
    "\n"
   ]
  },
  {
   "cell_type": "code",
   "execution_count": 13,
   "id": "8052e821",
   "metadata": {},
   "outputs": [
    {
     "name": "stdout",
     "output_type": "stream",
     "text": [
      "4\n"
     ]
    }
   ],
   "source": [
    "print(1+3)"
   ]
  },
  {
   "cell_type": "code",
   "execution_count": null,
   "id": "c7dd9064",
   "metadata": {},
   "outputs": [],
   "source": []
  }
 ],
 "metadata": {
  "kernelspec": {
   "display_name": "Python 3 (ipykernel)",
   "language": "python",
   "name": "python3"
  },
  "language_info": {
   "codemirror_mode": {
    "name": "ipython",
    "version": 3
   },
   "file_extension": ".py",
   "mimetype": "text/x-python",
   "name": "python",
   "nbconvert_exporter": "python",
   "pygments_lexer": "ipython3",
   "version": "3.10.2"
  }
 },
 "nbformat": 4,
 "nbformat_minor": 5
}
